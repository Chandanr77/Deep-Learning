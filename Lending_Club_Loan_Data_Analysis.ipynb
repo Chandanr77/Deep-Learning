{
  "nbformat": 4,
  "nbformat_minor": 0,
  "metadata": {
    "colab": {
      "name": "Lending Club Loan Data Analysis.ipynb",
      "provenance": [],
      "collapsed_sections": [],
      "toc_visible": true,
      "authorship_tag": "ABX9TyPLR33t8FmMrw2R+jaKR+ch",
      "include_colab_link": true
    },
    "kernelspec": {
      "name": "python3",
      "display_name": "Python 3"
    }
  },
  "cells": [
    {
      "cell_type": "markdown",
      "metadata": {
        "id": "view-in-github",
        "colab_type": "text"
      },
      "source": [
        "<a href=\"https://colab.research.google.com/github/Chandanr77/Deep-Learning/blob/main/Lending_Club_Loan_Data_Analysis.ipynb\" target=\"_parent\"><img src=\"https://colab.research.google.com/assets/colab-badge.svg\" alt=\"Open In Colab\"/></a>"
      ]
    },
    {
      "cell_type": "markdown",
      "metadata": {
        "id": "yApxVCJVhwVL"
      },
      "source": [
        "\n",
        "\n",
        "## ***Lending Club Loan Data Analysis Project 2***"
      ]
    },
    {
      "cell_type": "markdown",
      "metadata": {
        "id": "Hy6uN03LpGDi"
      },
      "source": [
        "**import the libraries**"
      ]
    },
    {
      "cell_type": "code",
      "metadata": {
        "id": "5_A2JxnshyrL"
      },
      "source": [
        "import tensorflow as tf\n",
        "import pandas as pd\n",
        "import numpy as np\n",
        "import seaborn as sns\n",
        "import matplotlib.pyplot as plt\n",
        "%matplotlib inline"
      ],
      "execution_count": null,
      "outputs": []
    },
    {
      "cell_type": "code",
      "metadata": {
        "id": "d9fEcecnhz6h"
      },
      "source": [
        "import warnings\n",
        "warnings.filterwarnings('ignore')"
      ],
      "execution_count": null,
      "outputs": []
    },
    {
      "cell_type": "code",
      "metadata": {
        "id": "O2Yficg8iDh4"
      },
      "source": [
        "df = pd.read_csv('loan_data.csv')"
      ],
      "execution_count": null,
      "outputs": []
    },
    {
      "cell_type": "code",
      "metadata": {
        "colab": {
          "base_uri": "https://localhost:8080/",
          "height": 211
        },
        "id": "BA0YmRFLj9eP",
        "outputId": "578c441c-673b-4c1f-fd2f-36c9c9bf06fe"
      },
      "source": [
        "df.head()"
      ],
      "execution_count": null,
      "outputs": [
        {
          "output_type": "execute_result",
          "data": {
            "text/html": [
              "<div>\n",
              "<style scoped>\n",
              "    .dataframe tbody tr th:only-of-type {\n",
              "        vertical-align: middle;\n",
              "    }\n",
              "\n",
              "    .dataframe tbody tr th {\n",
              "        vertical-align: top;\n",
              "    }\n",
              "\n",
              "    .dataframe thead th {\n",
              "        text-align: right;\n",
              "    }\n",
              "</style>\n",
              "<table border=\"1\" class=\"dataframe\">\n",
              "  <thead>\n",
              "    <tr style=\"text-align: right;\">\n",
              "      <th></th>\n",
              "      <th>credit.policy</th>\n",
              "      <th>purpose</th>\n",
              "      <th>int.rate</th>\n",
              "      <th>installment</th>\n",
              "      <th>log.annual.inc</th>\n",
              "      <th>dti</th>\n",
              "      <th>fico</th>\n",
              "      <th>days.with.cr.line</th>\n",
              "      <th>revol.bal</th>\n",
              "      <th>revol.util</th>\n",
              "      <th>inq.last.6mths</th>\n",
              "      <th>delinq.2yrs</th>\n",
              "      <th>pub.rec</th>\n",
              "      <th>not.fully.paid</th>\n",
              "    </tr>\n",
              "  </thead>\n",
              "  <tbody>\n",
              "    <tr>\n",
              "      <th>0</th>\n",
              "      <td>1</td>\n",
              "      <td>debt_consolidation</td>\n",
              "      <td>0.1189</td>\n",
              "      <td>829.10</td>\n",
              "      <td>11.350407</td>\n",
              "      <td>19.48</td>\n",
              "      <td>737</td>\n",
              "      <td>5639.958333</td>\n",
              "      <td>28854</td>\n",
              "      <td>52.1</td>\n",
              "      <td>0</td>\n",
              "      <td>0</td>\n",
              "      <td>0</td>\n",
              "      <td>0</td>\n",
              "    </tr>\n",
              "    <tr>\n",
              "      <th>1</th>\n",
              "      <td>1</td>\n",
              "      <td>credit_card</td>\n",
              "      <td>0.1071</td>\n",
              "      <td>228.22</td>\n",
              "      <td>11.082143</td>\n",
              "      <td>14.29</td>\n",
              "      <td>707</td>\n",
              "      <td>2760.000000</td>\n",
              "      <td>33623</td>\n",
              "      <td>76.7</td>\n",
              "      <td>0</td>\n",
              "      <td>0</td>\n",
              "      <td>0</td>\n",
              "      <td>0</td>\n",
              "    </tr>\n",
              "    <tr>\n",
              "      <th>2</th>\n",
              "      <td>1</td>\n",
              "      <td>debt_consolidation</td>\n",
              "      <td>0.1357</td>\n",
              "      <td>366.86</td>\n",
              "      <td>10.373491</td>\n",
              "      <td>11.63</td>\n",
              "      <td>682</td>\n",
              "      <td>4710.000000</td>\n",
              "      <td>3511</td>\n",
              "      <td>25.6</td>\n",
              "      <td>1</td>\n",
              "      <td>0</td>\n",
              "      <td>0</td>\n",
              "      <td>0</td>\n",
              "    </tr>\n",
              "    <tr>\n",
              "      <th>3</th>\n",
              "      <td>1</td>\n",
              "      <td>debt_consolidation</td>\n",
              "      <td>0.1008</td>\n",
              "      <td>162.34</td>\n",
              "      <td>11.350407</td>\n",
              "      <td>8.10</td>\n",
              "      <td>712</td>\n",
              "      <td>2699.958333</td>\n",
              "      <td>33667</td>\n",
              "      <td>73.2</td>\n",
              "      <td>1</td>\n",
              "      <td>0</td>\n",
              "      <td>0</td>\n",
              "      <td>0</td>\n",
              "    </tr>\n",
              "    <tr>\n",
              "      <th>4</th>\n",
              "      <td>1</td>\n",
              "      <td>credit_card</td>\n",
              "      <td>0.1426</td>\n",
              "      <td>102.92</td>\n",
              "      <td>11.299732</td>\n",
              "      <td>14.97</td>\n",
              "      <td>667</td>\n",
              "      <td>4066.000000</td>\n",
              "      <td>4740</td>\n",
              "      <td>39.5</td>\n",
              "      <td>0</td>\n",
              "      <td>1</td>\n",
              "      <td>0</td>\n",
              "      <td>0</td>\n",
              "    </tr>\n",
              "  </tbody>\n",
              "</table>\n",
              "</div>"
            ],
            "text/plain": [
              "   credit.policy             purpose  ...  pub.rec  not.fully.paid\n",
              "0              1  debt_consolidation  ...        0               0\n",
              "1              1         credit_card  ...        0               0\n",
              "2              1  debt_consolidation  ...        0               0\n",
              "3              1  debt_consolidation  ...        0               0\n",
              "4              1         credit_card  ...        0               0\n",
              "\n",
              "[5 rows x 14 columns]"
            ]
          },
          "metadata": {
            "tags": []
          },
          "execution_count": 4
        }
      ]
    },
    {
      "cell_type": "markdown",
      "metadata": {
        "id": "aeaFfCOClgXG"
      },
      "source": [
        "**Descriptive statistics**"
      ]
    },
    {
      "cell_type": "code",
      "metadata": {
        "colab": {
          "base_uri": "https://localhost:8080/",
          "height": 297
        },
        "id": "vq_lPWkMlamj",
        "outputId": "2e99b667-dad7-4ca2-b916-9626b0f86ff0"
      },
      "source": [
        "df.describe()"
      ],
      "execution_count": null,
      "outputs": [
        {
          "output_type": "execute_result",
          "data": {
            "text/html": [
              "<div>\n",
              "<style scoped>\n",
              "    .dataframe tbody tr th:only-of-type {\n",
              "        vertical-align: middle;\n",
              "    }\n",
              "\n",
              "    .dataframe tbody tr th {\n",
              "        vertical-align: top;\n",
              "    }\n",
              "\n",
              "    .dataframe thead th {\n",
              "        text-align: right;\n",
              "    }\n",
              "</style>\n",
              "<table border=\"1\" class=\"dataframe\">\n",
              "  <thead>\n",
              "    <tr style=\"text-align: right;\">\n",
              "      <th></th>\n",
              "      <th>credit.policy</th>\n",
              "      <th>int.rate</th>\n",
              "      <th>installment</th>\n",
              "      <th>log.annual.inc</th>\n",
              "      <th>dti</th>\n",
              "      <th>fico</th>\n",
              "      <th>days.with.cr.line</th>\n",
              "      <th>revol.bal</th>\n",
              "      <th>revol.util</th>\n",
              "      <th>inq.last.6mths</th>\n",
              "      <th>delinq.2yrs</th>\n",
              "      <th>pub.rec</th>\n",
              "      <th>not.fully.paid</th>\n",
              "    </tr>\n",
              "  </thead>\n",
              "  <tbody>\n",
              "    <tr>\n",
              "      <th>count</th>\n",
              "      <td>9578.000000</td>\n",
              "      <td>9578.000000</td>\n",
              "      <td>9578.000000</td>\n",
              "      <td>9578.000000</td>\n",
              "      <td>9578.000000</td>\n",
              "      <td>9578.000000</td>\n",
              "      <td>9578.000000</td>\n",
              "      <td>9.578000e+03</td>\n",
              "      <td>9578.000000</td>\n",
              "      <td>9578.000000</td>\n",
              "      <td>9578.000000</td>\n",
              "      <td>9578.000000</td>\n",
              "      <td>9578.000000</td>\n",
              "    </tr>\n",
              "    <tr>\n",
              "      <th>mean</th>\n",
              "      <td>0.804970</td>\n",
              "      <td>0.122640</td>\n",
              "      <td>319.089413</td>\n",
              "      <td>10.932117</td>\n",
              "      <td>12.606679</td>\n",
              "      <td>710.846314</td>\n",
              "      <td>4560.767197</td>\n",
              "      <td>1.691396e+04</td>\n",
              "      <td>46.799236</td>\n",
              "      <td>1.577469</td>\n",
              "      <td>0.163708</td>\n",
              "      <td>0.062122</td>\n",
              "      <td>0.160054</td>\n",
              "    </tr>\n",
              "    <tr>\n",
              "      <th>std</th>\n",
              "      <td>0.396245</td>\n",
              "      <td>0.026847</td>\n",
              "      <td>207.071301</td>\n",
              "      <td>0.614813</td>\n",
              "      <td>6.883970</td>\n",
              "      <td>37.970537</td>\n",
              "      <td>2496.930377</td>\n",
              "      <td>3.375619e+04</td>\n",
              "      <td>29.014417</td>\n",
              "      <td>2.200245</td>\n",
              "      <td>0.546215</td>\n",
              "      <td>0.262126</td>\n",
              "      <td>0.366676</td>\n",
              "    </tr>\n",
              "    <tr>\n",
              "      <th>min</th>\n",
              "      <td>0.000000</td>\n",
              "      <td>0.060000</td>\n",
              "      <td>15.670000</td>\n",
              "      <td>7.547502</td>\n",
              "      <td>0.000000</td>\n",
              "      <td>612.000000</td>\n",
              "      <td>178.958333</td>\n",
              "      <td>0.000000e+00</td>\n",
              "      <td>0.000000</td>\n",
              "      <td>0.000000</td>\n",
              "      <td>0.000000</td>\n",
              "      <td>0.000000</td>\n",
              "      <td>0.000000</td>\n",
              "    </tr>\n",
              "    <tr>\n",
              "      <th>25%</th>\n",
              "      <td>1.000000</td>\n",
              "      <td>0.103900</td>\n",
              "      <td>163.770000</td>\n",
              "      <td>10.558414</td>\n",
              "      <td>7.212500</td>\n",
              "      <td>682.000000</td>\n",
              "      <td>2820.000000</td>\n",
              "      <td>3.187000e+03</td>\n",
              "      <td>22.600000</td>\n",
              "      <td>0.000000</td>\n",
              "      <td>0.000000</td>\n",
              "      <td>0.000000</td>\n",
              "      <td>0.000000</td>\n",
              "    </tr>\n",
              "    <tr>\n",
              "      <th>50%</th>\n",
              "      <td>1.000000</td>\n",
              "      <td>0.122100</td>\n",
              "      <td>268.950000</td>\n",
              "      <td>10.928884</td>\n",
              "      <td>12.665000</td>\n",
              "      <td>707.000000</td>\n",
              "      <td>4139.958333</td>\n",
              "      <td>8.596000e+03</td>\n",
              "      <td>46.300000</td>\n",
              "      <td>1.000000</td>\n",
              "      <td>0.000000</td>\n",
              "      <td>0.000000</td>\n",
              "      <td>0.000000</td>\n",
              "    </tr>\n",
              "    <tr>\n",
              "      <th>75%</th>\n",
              "      <td>1.000000</td>\n",
              "      <td>0.140700</td>\n",
              "      <td>432.762500</td>\n",
              "      <td>11.291293</td>\n",
              "      <td>17.950000</td>\n",
              "      <td>737.000000</td>\n",
              "      <td>5730.000000</td>\n",
              "      <td>1.824950e+04</td>\n",
              "      <td>70.900000</td>\n",
              "      <td>2.000000</td>\n",
              "      <td>0.000000</td>\n",
              "      <td>0.000000</td>\n",
              "      <td>0.000000</td>\n",
              "    </tr>\n",
              "    <tr>\n",
              "      <th>max</th>\n",
              "      <td>1.000000</td>\n",
              "      <td>0.216400</td>\n",
              "      <td>940.140000</td>\n",
              "      <td>14.528354</td>\n",
              "      <td>29.960000</td>\n",
              "      <td>827.000000</td>\n",
              "      <td>17639.958330</td>\n",
              "      <td>1.207359e+06</td>\n",
              "      <td>119.000000</td>\n",
              "      <td>33.000000</td>\n",
              "      <td>13.000000</td>\n",
              "      <td>5.000000</td>\n",
              "      <td>1.000000</td>\n",
              "    </tr>\n",
              "  </tbody>\n",
              "</table>\n",
              "</div>"
            ],
            "text/plain": [
              "       credit.policy     int.rate  ...      pub.rec  not.fully.paid\n",
              "count    9578.000000  9578.000000  ...  9578.000000     9578.000000\n",
              "mean        0.804970     0.122640  ...     0.062122        0.160054\n",
              "std         0.396245     0.026847  ...     0.262126        0.366676\n",
              "min         0.000000     0.060000  ...     0.000000        0.000000\n",
              "25%         1.000000     0.103900  ...     0.000000        0.000000\n",
              "50%         1.000000     0.122100  ...     0.000000        0.000000\n",
              "75%         1.000000     0.140700  ...     0.000000        0.000000\n",
              "max         1.000000     0.216400  ...     5.000000        1.000000\n",
              "\n",
              "[8 rows x 13 columns]"
            ]
          },
          "metadata": {
            "tags": []
          },
          "execution_count": 5
        }
      ]
    },
    {
      "cell_type": "code",
      "metadata": {
        "colab": {
          "base_uri": "https://localhost:8080/",
          "height": 450
        },
        "id": "tQQUKLF4lkFo",
        "outputId": "de1f6c60-f9fb-4f59-e503-6b82b8d0f9c4"
      },
      "source": [
        "def draw_missing_data_table(df):\n",
        " total = df.isnull().sum().sort_values(ascending=False)\n",
        " percent = (df.isnull().sum()/df.isnull().count()).sort_values(ascending=False)\n",
        " missing_data = pd.concat([total, percent], axis=1, keys=['Total', 'Percent'])\n",
        " return missing_data\n",
        "\n",
        "draw_missing_data_table(df)"
      ],
      "execution_count": null,
      "outputs": [
        {
          "output_type": "execute_result",
          "data": {
            "text/html": [
              "<div>\n",
              "<style scoped>\n",
              "    .dataframe tbody tr th:only-of-type {\n",
              "        vertical-align: middle;\n",
              "    }\n",
              "\n",
              "    .dataframe tbody tr th {\n",
              "        vertical-align: top;\n",
              "    }\n",
              "\n",
              "    .dataframe thead th {\n",
              "        text-align: right;\n",
              "    }\n",
              "</style>\n",
              "<table border=\"1\" class=\"dataframe\">\n",
              "  <thead>\n",
              "    <tr style=\"text-align: right;\">\n",
              "      <th></th>\n",
              "      <th>Total</th>\n",
              "      <th>Percent</th>\n",
              "    </tr>\n",
              "  </thead>\n",
              "  <tbody>\n",
              "    <tr>\n",
              "      <th>not.fully.paid</th>\n",
              "      <td>0</td>\n",
              "      <td>0.0</td>\n",
              "    </tr>\n",
              "    <tr>\n",
              "      <th>pub.rec</th>\n",
              "      <td>0</td>\n",
              "      <td>0.0</td>\n",
              "    </tr>\n",
              "    <tr>\n",
              "      <th>delinq.2yrs</th>\n",
              "      <td>0</td>\n",
              "      <td>0.0</td>\n",
              "    </tr>\n",
              "    <tr>\n",
              "      <th>inq.last.6mths</th>\n",
              "      <td>0</td>\n",
              "      <td>0.0</td>\n",
              "    </tr>\n",
              "    <tr>\n",
              "      <th>revol.util</th>\n",
              "      <td>0</td>\n",
              "      <td>0.0</td>\n",
              "    </tr>\n",
              "    <tr>\n",
              "      <th>revol.bal</th>\n",
              "      <td>0</td>\n",
              "      <td>0.0</td>\n",
              "    </tr>\n",
              "    <tr>\n",
              "      <th>days.with.cr.line</th>\n",
              "      <td>0</td>\n",
              "      <td>0.0</td>\n",
              "    </tr>\n",
              "    <tr>\n",
              "      <th>fico</th>\n",
              "      <td>0</td>\n",
              "      <td>0.0</td>\n",
              "    </tr>\n",
              "    <tr>\n",
              "      <th>dti</th>\n",
              "      <td>0</td>\n",
              "      <td>0.0</td>\n",
              "    </tr>\n",
              "    <tr>\n",
              "      <th>log.annual.inc</th>\n",
              "      <td>0</td>\n",
              "      <td>0.0</td>\n",
              "    </tr>\n",
              "    <tr>\n",
              "      <th>installment</th>\n",
              "      <td>0</td>\n",
              "      <td>0.0</td>\n",
              "    </tr>\n",
              "    <tr>\n",
              "      <th>int.rate</th>\n",
              "      <td>0</td>\n",
              "      <td>0.0</td>\n",
              "    </tr>\n",
              "    <tr>\n",
              "      <th>purpose</th>\n",
              "      <td>0</td>\n",
              "      <td>0.0</td>\n",
              "    </tr>\n",
              "    <tr>\n",
              "      <th>credit.policy</th>\n",
              "      <td>0</td>\n",
              "      <td>0.0</td>\n",
              "    </tr>\n",
              "  </tbody>\n",
              "</table>\n",
              "</div>"
            ],
            "text/plain": [
              "                   Total  Percent\n",
              "not.fully.paid         0      0.0\n",
              "pub.rec                0      0.0\n",
              "delinq.2yrs            0      0.0\n",
              "inq.last.6mths         0      0.0\n",
              "revol.util             0      0.0\n",
              "revol.bal              0      0.0\n",
              "days.with.cr.line      0      0.0\n",
              "fico                   0      0.0\n",
              "dti                    0      0.0\n",
              "log.annual.inc         0      0.0\n",
              "installment            0      0.0\n",
              "int.rate               0      0.0\n",
              "purpose                0      0.0\n",
              "credit.policy          0      0.0"
            ]
          },
          "metadata": {
            "tags": []
          },
          "execution_count": 6
        }
      ]
    },
    {
      "cell_type": "code",
      "metadata": {
        "colab": {
          "base_uri": "https://localhost:8080/"
        },
        "id": "CxeXM3S5mA2c",
        "outputId": "e1fb0d5d-7852-4662-8f53-c5a763a274f0"
      },
      "source": [
        "df.shape[0], df.shape[1]"
      ],
      "execution_count": null,
      "outputs": [
        {
          "output_type": "execute_result",
          "data": {
            "text/plain": [
              "(9578, 14)"
            ]
          },
          "metadata": {
            "tags": []
          },
          "execution_count": 7
        }
      ]
    },
    {
      "cell_type": "code",
      "metadata": {
        "colab": {
          "base_uri": "https://localhost:8080/"
        },
        "id": "zwxoInKlmSaI",
        "outputId": "60c44452-817b-46db-d5e5-75a55c186185"
      },
      "source": [
        "df.purpose.unique()"
      ],
      "execution_count": null,
      "outputs": [
        {
          "output_type": "execute_result",
          "data": {
            "text/plain": [
              "array(['debt_consolidation', 'credit_card', 'all_other',\n",
              "       'home_improvement', 'small_business', 'major_purchase',\n",
              "       'educational'], dtype=object)"
            ]
          },
          "metadata": {
            "tags": []
          },
          "execution_count": 8
        }
      ]
    },
    {
      "cell_type": "code",
      "metadata": {
        "colab": {
          "base_uri": "https://localhost:8080/"
        },
        "id": "oCvt5KALpFJC",
        "outputId": "cf30d79f-78dc-44d9-e9e3-5191722e3186"
      },
      "source": [
        "df.columns"
      ],
      "execution_count": null,
      "outputs": [
        {
          "output_type": "execute_result",
          "data": {
            "text/plain": [
              "Index(['credit.policy', 'purpose', 'int.rate', 'installment', 'log.annual.inc',\n",
              "       'dti', 'fico', 'days.with.cr.line', 'revol.bal', 'revol.util',\n",
              "       'inq.last.6mths', 'delinq.2yrs', 'pub.rec', 'not.fully.paid'],\n",
              "      dtype='object')"
            ]
          },
          "metadata": {
            "tags": []
          },
          "execution_count": 9
        }
      ]
    },
    {
      "cell_type": "markdown",
      "metadata": {
        "id": "ClqkfgiIswgj"
      },
      "source": [
        "**Feature Engineering**\n"
      ]
    },
    {
      "cell_type": "code",
      "metadata": {
        "id": "4hZP3X73s08z"
      },
      "source": [
        "import numpy as np\n",
        "import seaborn as sb\n",
        "import matplotlib.pyplot as plt"
      ],
      "execution_count": null,
      "outputs": []
    },
    {
      "cell_type": "code",
      "metadata": {
        "colab": {
          "base_uri": "https://localhost:8080/",
          "height": 441
        },
        "id": "aJLngb4utShY",
        "outputId": "cd96c8e0-09d0-42bf-8294-d85b2491d431"
      },
      "source": [
        "df1 = df.drop(['purpose'],axis =1)\n",
        "df1.corr()"
      ],
      "execution_count": null,
      "outputs": [
        {
          "output_type": "execute_result",
          "data": {
            "text/html": [
              "<div>\n",
              "<style scoped>\n",
              "    .dataframe tbody tr th:only-of-type {\n",
              "        vertical-align: middle;\n",
              "    }\n",
              "\n",
              "    .dataframe tbody tr th {\n",
              "        vertical-align: top;\n",
              "    }\n",
              "\n",
              "    .dataframe thead th {\n",
              "        text-align: right;\n",
              "    }\n",
              "</style>\n",
              "<table border=\"1\" class=\"dataframe\">\n",
              "  <thead>\n",
              "    <tr style=\"text-align: right;\">\n",
              "      <th></th>\n",
              "      <th>credit.policy</th>\n",
              "      <th>int.rate</th>\n",
              "      <th>installment</th>\n",
              "      <th>log.annual.inc</th>\n",
              "      <th>dti</th>\n",
              "      <th>fico</th>\n",
              "      <th>days.with.cr.line</th>\n",
              "      <th>revol.bal</th>\n",
              "      <th>revol.util</th>\n",
              "      <th>inq.last.6mths</th>\n",
              "      <th>delinq.2yrs</th>\n",
              "      <th>pub.rec</th>\n",
              "      <th>not.fully.paid</th>\n",
              "    </tr>\n",
              "  </thead>\n",
              "  <tbody>\n",
              "    <tr>\n",
              "      <th>credit.policy</th>\n",
              "      <td>1.000000</td>\n",
              "      <td>-0.294089</td>\n",
              "      <td>0.058770</td>\n",
              "      <td>0.034906</td>\n",
              "      <td>-0.090901</td>\n",
              "      <td>0.348319</td>\n",
              "      <td>0.099026</td>\n",
              "      <td>-0.187518</td>\n",
              "      <td>-0.104095</td>\n",
              "      <td>-0.535511</td>\n",
              "      <td>-0.076318</td>\n",
              "      <td>-0.054243</td>\n",
              "      <td>-0.158119</td>\n",
              "    </tr>\n",
              "    <tr>\n",
              "      <th>int.rate</th>\n",
              "      <td>-0.294089</td>\n",
              "      <td>1.000000</td>\n",
              "      <td>0.276140</td>\n",
              "      <td>0.056383</td>\n",
              "      <td>0.220006</td>\n",
              "      <td>-0.714821</td>\n",
              "      <td>-0.124022</td>\n",
              "      <td>0.092527</td>\n",
              "      <td>0.464837</td>\n",
              "      <td>0.202780</td>\n",
              "      <td>0.156079</td>\n",
              "      <td>0.098162</td>\n",
              "      <td>0.159552</td>\n",
              "    </tr>\n",
              "    <tr>\n",
              "      <th>installment</th>\n",
              "      <td>0.058770</td>\n",
              "      <td>0.276140</td>\n",
              "      <td>1.000000</td>\n",
              "      <td>0.448102</td>\n",
              "      <td>0.050202</td>\n",
              "      <td>0.086039</td>\n",
              "      <td>0.183297</td>\n",
              "      <td>0.233625</td>\n",
              "      <td>0.081356</td>\n",
              "      <td>-0.010419</td>\n",
              "      <td>-0.004368</td>\n",
              "      <td>-0.032760</td>\n",
              "      <td>0.049955</td>\n",
              "    </tr>\n",
              "    <tr>\n",
              "      <th>log.annual.inc</th>\n",
              "      <td>0.034906</td>\n",
              "      <td>0.056383</td>\n",
              "      <td>0.448102</td>\n",
              "      <td>1.000000</td>\n",
              "      <td>-0.054065</td>\n",
              "      <td>0.114576</td>\n",
              "      <td>0.336896</td>\n",
              "      <td>0.372140</td>\n",
              "      <td>0.054881</td>\n",
              "      <td>0.029171</td>\n",
              "      <td>0.029203</td>\n",
              "      <td>0.016506</td>\n",
              "      <td>-0.033439</td>\n",
              "    </tr>\n",
              "    <tr>\n",
              "      <th>dti</th>\n",
              "      <td>-0.090901</td>\n",
              "      <td>0.220006</td>\n",
              "      <td>0.050202</td>\n",
              "      <td>-0.054065</td>\n",
              "      <td>1.000000</td>\n",
              "      <td>-0.241191</td>\n",
              "      <td>0.060101</td>\n",
              "      <td>0.188748</td>\n",
              "      <td>0.337109</td>\n",
              "      <td>0.029189</td>\n",
              "      <td>-0.021792</td>\n",
              "      <td>0.006209</td>\n",
              "      <td>0.037362</td>\n",
              "    </tr>\n",
              "    <tr>\n",
              "      <th>fico</th>\n",
              "      <td>0.348319</td>\n",
              "      <td>-0.714821</td>\n",
              "      <td>0.086039</td>\n",
              "      <td>0.114576</td>\n",
              "      <td>-0.241191</td>\n",
              "      <td>1.000000</td>\n",
              "      <td>0.263880</td>\n",
              "      <td>-0.015553</td>\n",
              "      <td>-0.541289</td>\n",
              "      <td>-0.185293</td>\n",
              "      <td>-0.216340</td>\n",
              "      <td>-0.147592</td>\n",
              "      <td>-0.149666</td>\n",
              "    </tr>\n",
              "    <tr>\n",
              "      <th>days.with.cr.line</th>\n",
              "      <td>0.099026</td>\n",
              "      <td>-0.124022</td>\n",
              "      <td>0.183297</td>\n",
              "      <td>0.336896</td>\n",
              "      <td>0.060101</td>\n",
              "      <td>0.263880</td>\n",
              "      <td>1.000000</td>\n",
              "      <td>0.229344</td>\n",
              "      <td>-0.024239</td>\n",
              "      <td>-0.041736</td>\n",
              "      <td>0.081374</td>\n",
              "      <td>0.071826</td>\n",
              "      <td>-0.029237</td>\n",
              "    </tr>\n",
              "    <tr>\n",
              "      <th>revol.bal</th>\n",
              "      <td>-0.187518</td>\n",
              "      <td>0.092527</td>\n",
              "      <td>0.233625</td>\n",
              "      <td>0.372140</td>\n",
              "      <td>0.188748</td>\n",
              "      <td>-0.015553</td>\n",
              "      <td>0.229344</td>\n",
              "      <td>1.000000</td>\n",
              "      <td>0.203779</td>\n",
              "      <td>0.022394</td>\n",
              "      <td>-0.033243</td>\n",
              "      <td>-0.031010</td>\n",
              "      <td>0.053699</td>\n",
              "    </tr>\n",
              "    <tr>\n",
              "      <th>revol.util</th>\n",
              "      <td>-0.104095</td>\n",
              "      <td>0.464837</td>\n",
              "      <td>0.081356</td>\n",
              "      <td>0.054881</td>\n",
              "      <td>0.337109</td>\n",
              "      <td>-0.541289</td>\n",
              "      <td>-0.024239</td>\n",
              "      <td>0.203779</td>\n",
              "      <td>1.000000</td>\n",
              "      <td>-0.013880</td>\n",
              "      <td>-0.042740</td>\n",
              "      <td>0.066717</td>\n",
              "      <td>0.082088</td>\n",
              "    </tr>\n",
              "    <tr>\n",
              "      <th>inq.last.6mths</th>\n",
              "      <td>-0.535511</td>\n",
              "      <td>0.202780</td>\n",
              "      <td>-0.010419</td>\n",
              "      <td>0.029171</td>\n",
              "      <td>0.029189</td>\n",
              "      <td>-0.185293</td>\n",
              "      <td>-0.041736</td>\n",
              "      <td>0.022394</td>\n",
              "      <td>-0.013880</td>\n",
              "      <td>1.000000</td>\n",
              "      <td>0.021245</td>\n",
              "      <td>0.072673</td>\n",
              "      <td>0.149452</td>\n",
              "    </tr>\n",
              "    <tr>\n",
              "      <th>delinq.2yrs</th>\n",
              "      <td>-0.076318</td>\n",
              "      <td>0.156079</td>\n",
              "      <td>-0.004368</td>\n",
              "      <td>0.029203</td>\n",
              "      <td>-0.021792</td>\n",
              "      <td>-0.216340</td>\n",
              "      <td>0.081374</td>\n",
              "      <td>-0.033243</td>\n",
              "      <td>-0.042740</td>\n",
              "      <td>0.021245</td>\n",
              "      <td>1.000000</td>\n",
              "      <td>0.009184</td>\n",
              "      <td>0.008881</td>\n",
              "    </tr>\n",
              "    <tr>\n",
              "      <th>pub.rec</th>\n",
              "      <td>-0.054243</td>\n",
              "      <td>0.098162</td>\n",
              "      <td>-0.032760</td>\n",
              "      <td>0.016506</td>\n",
              "      <td>0.006209</td>\n",
              "      <td>-0.147592</td>\n",
              "      <td>0.071826</td>\n",
              "      <td>-0.031010</td>\n",
              "      <td>0.066717</td>\n",
              "      <td>0.072673</td>\n",
              "      <td>0.009184</td>\n",
              "      <td>1.000000</td>\n",
              "      <td>0.048634</td>\n",
              "    </tr>\n",
              "    <tr>\n",
              "      <th>not.fully.paid</th>\n",
              "      <td>-0.158119</td>\n",
              "      <td>0.159552</td>\n",
              "      <td>0.049955</td>\n",
              "      <td>-0.033439</td>\n",
              "      <td>0.037362</td>\n",
              "      <td>-0.149666</td>\n",
              "      <td>-0.029237</td>\n",
              "      <td>0.053699</td>\n",
              "      <td>0.082088</td>\n",
              "      <td>0.149452</td>\n",
              "      <td>0.008881</td>\n",
              "      <td>0.048634</td>\n",
              "      <td>1.000000</td>\n",
              "    </tr>\n",
              "  </tbody>\n",
              "</table>\n",
              "</div>"
            ],
            "text/plain": [
              "                   credit.policy  int.rate  ...   pub.rec  not.fully.paid\n",
              "credit.policy           1.000000 -0.294089  ... -0.054243       -0.158119\n",
              "int.rate               -0.294089  1.000000  ...  0.098162        0.159552\n",
              "installment             0.058770  0.276140  ... -0.032760        0.049955\n",
              "log.annual.inc          0.034906  0.056383  ...  0.016506       -0.033439\n",
              "dti                    -0.090901  0.220006  ...  0.006209        0.037362\n",
              "fico                    0.348319 -0.714821  ... -0.147592       -0.149666\n",
              "days.with.cr.line       0.099026 -0.124022  ...  0.071826       -0.029237\n",
              "revol.bal              -0.187518  0.092527  ... -0.031010        0.053699\n",
              "revol.util             -0.104095  0.464837  ...  0.066717        0.082088\n",
              "inq.last.6mths         -0.535511  0.202780  ...  0.072673        0.149452\n",
              "delinq.2yrs            -0.076318  0.156079  ...  0.009184        0.008881\n",
              "pub.rec                -0.054243  0.098162  ...  1.000000        0.048634\n",
              "not.fully.paid         -0.158119  0.159552  ...  0.048634        1.000000\n",
              "\n",
              "[13 rows x 13 columns]"
            ]
          },
          "metadata": {
            "tags": []
          },
          "execution_count": 11
        }
      ]
    },
    {
      "cell_type": "code",
      "metadata": {
        "id": "YRmrwromtW68",
        "colab": {
          "base_uri": "https://localhost:8080/",
          "height": 467
        },
        "outputId": "1f6b05a9-e1bb-44aa-f110-963a6acb2687"
      },
      "source": [
        "plt.figure(figsize=(16, 6))\n",
        "heatmap = sns.heatmap(df1.corr(), vmin=-1, vmax=1, annot=True)\n",
        "heatmap.set_title('Correlation Heatmap', fontdict={'fontsize':12}, pad=12);"
      ],
      "execution_count": null,
      "outputs": [
        {
          "output_type": "display_data",
          "data": {
            "image/png": "[encoded data removed]",
            "text/plain": [
              "<Figure size 1152x432 with 2 Axes>"
            ]
          },
          "metadata": {
            "tags": [],
            "needs_background": "light"
          }
        }
      ]
    },
    {
      "cell_type": "markdown",
      "metadata": {
        "id": "rOd4TSICtkcR"
      },
      "source": [
        "**Feature Transformation**\n",
        "\n",
        "*Transform categorical values into numerical values (discrete)*"
      ]
    },
    {
      "cell_type": "code",
      "metadata": {
        "id": "3eKpBNKltZw-"
      },
      "source": [
        "df1= df.drop('purpose', axis=1)"
      ],
      "execution_count": null,
      "outputs": []
    },
    {
      "cell_type": "code",
      "metadata": {
        "id": "HAhkfU6Pt3He",
        "colab": {
          "base_uri": "https://localhost:8080/",
          "height": 191
        },
        "outputId": "3c2f81e3-97c4-4300-803b-1f36819a4442"
      },
      "source": [
        "df1.head()"
      ],
      "execution_count": null,
      "outputs": [
        {
          "output_type": "execute_result",
          "data": {
            "text/html": [
              "<div>\n",
              "<style scoped>\n",
              "    .dataframe tbody tr th:only-of-type {\n",
              "        vertical-align: middle;\n",
              "    }\n",
              "\n",
              "    .dataframe tbody tr th {\n",
              "        vertical-align: top;\n",
              "    }\n",
              "\n",
              "    .dataframe thead th {\n",
              "        text-align: right;\n",
              "    }\n",
              "</style>\n",
              "<table border=\"1\" class=\"dataframe\">\n",
              "  <thead>\n",
              "    <tr style=\"text-align: right;\">\n",
              "      <th></th>\n",
              "      <th>credit.policy</th>\n",
              "      <th>int.rate</th>\n",
              "      <th>installment</th>\n",
              "      <th>log.annual.inc</th>\n",
              "      <th>dti</th>\n",
              "      <th>fico</th>\n",
              "      <th>days.with.cr.line</th>\n",
              "      <th>revol.bal</th>\n",
              "      <th>revol.util</th>\n",
              "      <th>inq.last.6mths</th>\n",
              "      <th>delinq.2yrs</th>\n",
              "      <th>pub.rec</th>\n",
              "      <th>not.fully.paid</th>\n",
              "    </tr>\n",
              "  </thead>\n",
              "  <tbody>\n",
              "    <tr>\n",
              "      <th>0</th>\n",
              "      <td>1</td>\n",
              "      <td>0.1189</td>\n",
              "      <td>829.10</td>\n",
              "      <td>11.350407</td>\n",
              "      <td>19.48</td>\n",
              "      <td>737</td>\n",
              "      <td>5639.958333</td>\n",
              "      <td>28854</td>\n",
              "      <td>52.1</td>\n",
              "      <td>0</td>\n",
              "      <td>0</td>\n",
              "      <td>0</td>\n",
              "      <td>0</td>\n",
              "    </tr>\n",
              "    <tr>\n",
              "      <th>1</th>\n",
              "      <td>1</td>\n",
              "      <td>0.1071</td>\n",
              "      <td>228.22</td>\n",
              "      <td>11.082143</td>\n",
              "      <td>14.29</td>\n",
              "      <td>707</td>\n",
              "      <td>2760.000000</td>\n",
              "      <td>33623</td>\n",
              "      <td>76.7</td>\n",
              "      <td>0</td>\n",
              "      <td>0</td>\n",
              "      <td>0</td>\n",
              "      <td>0</td>\n",
              "    </tr>\n",
              "    <tr>\n",
              "      <th>2</th>\n",
              "      <td>1</td>\n",
              "      <td>0.1357</td>\n",
              "      <td>366.86</td>\n",
              "      <td>10.373491</td>\n",
              "      <td>11.63</td>\n",
              "      <td>682</td>\n",
              "      <td>4710.000000</td>\n",
              "      <td>3511</td>\n",
              "      <td>25.6</td>\n",
              "      <td>1</td>\n",
              "      <td>0</td>\n",
              "      <td>0</td>\n",
              "      <td>0</td>\n",
              "    </tr>\n",
              "    <tr>\n",
              "      <th>3</th>\n",
              "      <td>1</td>\n",
              "      <td>0.1008</td>\n",
              "      <td>162.34</td>\n",
              "      <td>11.350407</td>\n",
              "      <td>8.10</td>\n",
              "      <td>712</td>\n",
              "      <td>2699.958333</td>\n",
              "      <td>33667</td>\n",
              "      <td>73.2</td>\n",
              "      <td>1</td>\n",
              "      <td>0</td>\n",
              "      <td>0</td>\n",
              "      <td>0</td>\n",
              "    </tr>\n",
              "    <tr>\n",
              "      <th>4</th>\n",
              "      <td>1</td>\n",
              "      <td>0.1426</td>\n",
              "      <td>102.92</td>\n",
              "      <td>11.299732</td>\n",
              "      <td>14.97</td>\n",
              "      <td>667</td>\n",
              "      <td>4066.000000</td>\n",
              "      <td>4740</td>\n",
              "      <td>39.5</td>\n",
              "      <td>0</td>\n",
              "      <td>1</td>\n",
              "      <td>0</td>\n",
              "      <td>0</td>\n",
              "    </tr>\n",
              "  </tbody>\n",
              "</table>\n",
              "</div>"
            ],
            "text/plain": [
              "   credit.policy  int.rate  installment  ...  delinq.2yrs  pub.rec  not.fully.paid\n",
              "0              1    0.1189       829.10  ...            0        0               0\n",
              "1              1    0.1071       228.22  ...            0        0               0\n",
              "2              1    0.1357       366.86  ...            0        0               0\n",
              "3              1    0.1008       162.34  ...            0        0               0\n",
              "4              1    0.1426       102.92  ...            1        0               0\n",
              "\n",
              "[5 rows x 13 columns]"
            ]
          },
          "metadata": {
            "tags": []
          },
          "execution_count": 14
        }
      ]
    },
    {
      "cell_type": "code",
      "metadata": {
        "id": "4fau_GQkxVsR"
      },
      "source": [
        "X = df1.iloc[:, 1:]\n",
        "y = df1.iloc[:,0]"
      ],
      "execution_count": null,
      "outputs": []
    },
    {
      "cell_type": "code",
      "metadata": {
        "id": "FXwE2mPUxaEC",
        "colab": {
          "base_uri": "https://localhost:8080/"
        },
        "outputId": "dde4c992-4520-477b-c4f9-11054a1d4bf0"
      },
      "source": [
        "from statsmodels.stats.outliers_influence import variance_inflation_factor\n",
        "# VIF dataframe\n",
        "vif_data = pd.DataFrame()\n",
        "vif_data[\"feature\"] = X.columns\n",
        "# calculating VIF for each feature\n",
        "vif_data[\"VIF\"] = [variance_inflation_factor(X.values, i)\n",
        "for i in range(len(X.columns))]\n",
        "print(vif_data)\n"
      ],
      "execution_count": null,
      "outputs": [
        {
          "output_type": "stream",
          "text": [
            "              feature         VIF\n",
            "0            int.rate   35.229311\n",
            "1         installment    4.203935\n",
            "2      log.annual.inc  377.096058\n",
            "3                 dti    5.087213\n",
            "4                fico  278.905611\n",
            "5   days.with.cr.line    5.246601\n",
            "6           revol.bal    1.560645\n",
            "7          revol.util    5.675199\n",
            "8      inq.last.6mths    1.665182\n",
            "9         delinq.2yrs    1.200013\n",
            "10            pub.rec    1.100407\n",
            "11     not.fully.paid    1.247132\n"
          ],
          "name": "stdout"
        }
      ]
    },
    {
      "cell_type": "code",
      "metadata": {
        "id": "w9r4oOrPxoeE"
      },
      "source": [
        " X = X.drop(['fico','int.rate','log.annual.inc','dti','revol.util','installment'], axis=1)"
      ],
      "execution_count": null,
      "outputs": []
    },
    {
      "cell_type": "code",
      "metadata": {
        "id": "O-KCAbRCxwVd",
        "colab": {
          "base_uri": "https://localhost:8080/"
        },
        "outputId": "dc6a3e44-587e-4603-8daa-644c7c1735bd"
      },
      "source": [
        "vif_data = pd.DataFrame()\n",
        "vif_data[\"feature\"] = X.columns\n",
        "# calculating VIF for each feature\n",
        "vif_data[\"VIF\"] = [variance_inflation_factor(X.values, i)\n",
        "for i in range(len(X.columns))]\n",
        "print(vif_data)"
      ],
      "execution_count": null,
      "outputs": [
        {
          "output_type": "stream",
          "text": [
            "             feature       VIF\n",
            "0  days.with.cr.line  1.792752\n",
            "1          revol.bal  1.333792\n",
            "2     inq.last.6mths  1.402515\n",
            "3        delinq.2yrs  1.097459\n",
            "4            pub.rec  1.072438\n",
            "5     not.fully.paid  1.192166\n"
          ],
          "name": "stdout"
        }
      ]
    },
    {
      "cell_type": "code",
      "metadata": {
        "id": "S5lanSY5x1rf"
      },
      "source": [
        "import pandas as pd\n",
        "import numpy as np\n",
        "from sklearn.preprocessing import OneHotEncoder"
      ],
      "execution_count": null,
      "outputs": []
    },
    {
      "cell_type": "code",
      "metadata": {
        "id": "EAyrQXsqx62a",
        "colab": {
          "base_uri": "https://localhost:8080/",
          "height": 191
        },
        "outputId": "5788ed84-3192-426e-fe85-afb324add0fa"
      },
      "source": [
        "df2 = pd.get_dummies(df['purpose'],drop_first=True)\n",
        "df2.head()"
      ],
      "execution_count": null,
      "outputs": [
        {
          "output_type": "execute_result",
          "data": {
            "text/html": [
              "<div>\n",
              "<style scoped>\n",
              "    .dataframe tbody tr th:only-of-type {\n",
              "        vertical-align: middle;\n",
              "    }\n",
              "\n",
              "    .dataframe tbody tr th {\n",
              "        vertical-align: top;\n",
              "    }\n",
              "\n",
              "    .dataframe thead th {\n",
              "        text-align: right;\n",
              "    }\n",
              "</style>\n",
              "<table border=\"1\" class=\"dataframe\">\n",
              "  <thead>\n",
              "    <tr style=\"text-align: right;\">\n",
              "      <th></th>\n",
              "      <th>credit_card</th>\n",
              "      <th>debt_consolidation</th>\n",
              "      <th>educational</th>\n",
              "      <th>home_improvement</th>\n",
              "      <th>major_purchase</th>\n",
              "      <th>small_business</th>\n",
              "    </tr>\n",
              "  </thead>\n",
              "  <tbody>\n",
              "    <tr>\n",
              "      <th>0</th>\n",
              "      <td>0</td>\n",
              "      <td>1</td>\n",
              "      <td>0</td>\n",
              "      <td>0</td>\n",
              "      <td>0</td>\n",
              "      <td>0</td>\n",
              "    </tr>\n",
              "    <tr>\n",
              "      <th>1</th>\n",
              "      <td>1</td>\n",
              "      <td>0</td>\n",
              "      <td>0</td>\n",
              "      <td>0</td>\n",
              "      <td>0</td>\n",
              "      <td>0</td>\n",
              "    </tr>\n",
              "    <tr>\n",
              "      <th>2</th>\n",
              "      <td>0</td>\n",
              "      <td>1</td>\n",
              "      <td>0</td>\n",
              "      <td>0</td>\n",
              "      <td>0</td>\n",
              "      <td>0</td>\n",
              "    </tr>\n",
              "    <tr>\n",
              "      <th>3</th>\n",
              "      <td>0</td>\n",
              "      <td>1</td>\n",
              "      <td>0</td>\n",
              "      <td>0</td>\n",
              "      <td>0</td>\n",
              "      <td>0</td>\n",
              "    </tr>\n",
              "    <tr>\n",
              "      <th>4</th>\n",
              "      <td>1</td>\n",
              "      <td>0</td>\n",
              "      <td>0</td>\n",
              "      <td>0</td>\n",
              "      <td>0</td>\n",
              "      <td>0</td>\n",
              "    </tr>\n",
              "  </tbody>\n",
              "</table>\n",
              "</div>"
            ],
            "text/plain": [
              "   credit_card  debt_consolidation  ...  major_purchase  small_business\n",
              "0            0                   1  ...               0               0\n",
              "1            1                   0  ...               0               0\n",
              "2            0                   1  ...               0               0\n",
              "3            0                   1  ...               0               0\n",
              "4            1                   0  ...               0               0\n",
              "\n",
              "[5 rows x 6 columns]"
            ]
          },
          "metadata": {
            "tags": []
          },
          "execution_count": 20
        }
      ]
    },
    {
      "cell_type": "code",
      "metadata": {
        "id": "wYFjxnVryAWR",
        "colab": {
          "base_uri": "https://localhost:8080/",
          "height": 411
        },
        "outputId": "0de3c756-b8b8-41fd-8066-eddb5d3de05e"
      },
      "source": [
        "X = X.join(df2)\n",
        "X"
      ],
      "execution_count": null,
      "outputs": [
        {
          "output_type": "execute_result",
          "data": {
            "text/html": [
              "<div>\n",
              "<style scoped>\n",
              "    .dataframe tbody tr th:only-of-type {\n",
              "        vertical-align: middle;\n",
              "    }\n",
              "\n",
              "    .dataframe tbody tr th {\n",
              "        vertical-align: top;\n",
              "    }\n",
              "\n",
              "    .dataframe thead th {\n",
              "        text-align: right;\n",
              "    }\n",
              "</style>\n",
              "<table border=\"1\" class=\"dataframe\">\n",
              "  <thead>\n",
              "    <tr style=\"text-align: right;\">\n",
              "      <th></th>\n",
              "      <th>days.with.cr.line</th>\n",
              "      <th>revol.bal</th>\n",
              "      <th>inq.last.6mths</th>\n",
              "      <th>delinq.2yrs</th>\n",
              "      <th>pub.rec</th>\n",
              "      <th>not.fully.paid</th>\n",
              "      <th>credit_card</th>\n",
              "      <th>debt_consolidation</th>\n",
              "      <th>educational</th>\n",
              "      <th>home_improvement</th>\n",
              "      <th>major_purchase</th>\n",
              "      <th>small_business</th>\n",
              "    </tr>\n",
              "  </thead>\n",
              "  <tbody>\n",
              "    <tr>\n",
              "      <th>0</th>\n",
              "      <td>5639.958333</td>\n",
              "      <td>28854</td>\n",
              "      <td>0</td>\n",
              "      <td>0</td>\n",
              "      <td>0</td>\n",
              "      <td>0</td>\n",
              "      <td>0</td>\n",
              "      <td>1</td>\n",
              "      <td>0</td>\n",
              "      <td>0</td>\n",
              "      <td>0</td>\n",
              "      <td>0</td>\n",
              "    </tr>\n",
              "    <tr>\n",
              "      <th>1</th>\n",
              "      <td>2760.000000</td>\n",
              "      <td>33623</td>\n",
              "      <td>0</td>\n",
              "      <td>0</td>\n",
              "      <td>0</td>\n",
              "      <td>0</td>\n",
              "      <td>1</td>\n",
              "      <td>0</td>\n",
              "      <td>0</td>\n",
              "      <td>0</td>\n",
              "      <td>0</td>\n",
              "      <td>0</td>\n",
              "    </tr>\n",
              "    <tr>\n",
              "      <th>2</th>\n",
              "      <td>4710.000000</td>\n",
              "      <td>3511</td>\n",
              "      <td>1</td>\n",
              "      <td>0</td>\n",
              "      <td>0</td>\n",
              "      <td>0</td>\n",
              "      <td>0</td>\n",
              "      <td>1</td>\n",
              "      <td>0</td>\n",
              "      <td>0</td>\n",
              "      <td>0</td>\n",
              "      <td>0</td>\n",
              "    </tr>\n",
              "    <tr>\n",
              "      <th>3</th>\n",
              "      <td>2699.958333</td>\n",
              "      <td>33667</td>\n",
              "      <td>1</td>\n",
              "      <td>0</td>\n",
              "      <td>0</td>\n",
              "      <td>0</td>\n",
              "      <td>0</td>\n",
              "      <td>1</td>\n",
              "      <td>0</td>\n",
              "      <td>0</td>\n",
              "      <td>0</td>\n",
              "      <td>0</td>\n",
              "    </tr>\n",
              "    <tr>\n",
              "      <th>4</th>\n",
              "      <td>4066.000000</td>\n",
              "      <td>4740</td>\n",
              "      <td>0</td>\n",
              "      <td>1</td>\n",
              "      <td>0</td>\n",
              "      <td>0</td>\n",
              "      <td>1</td>\n",
              "      <td>0</td>\n",
              "      <td>0</td>\n",
              "      <td>0</td>\n",
              "      <td>0</td>\n",
              "      <td>0</td>\n",
              "    </tr>\n",
              "    <tr>\n",
              "      <th>...</th>\n",
              "      <td>...</td>\n",
              "      <td>...</td>\n",
              "      <td>...</td>\n",
              "      <td>...</td>\n",
              "      <td>...</td>\n",
              "      <td>...</td>\n",
              "      <td>...</td>\n",
              "      <td>...</td>\n",
              "      <td>...</td>\n",
              "      <td>...</td>\n",
              "      <td>...</td>\n",
              "      <td>...</td>\n",
              "    </tr>\n",
              "    <tr>\n",
              "      <th>9573</th>\n",
              "      <td>10474.000000</td>\n",
              "      <td>215372</td>\n",
              "      <td>2</td>\n",
              "      <td>0</td>\n",
              "      <td>0</td>\n",
              "      <td>1</td>\n",
              "      <td>0</td>\n",
              "      <td>0</td>\n",
              "      <td>0</td>\n",
              "      <td>0</td>\n",
              "      <td>0</td>\n",
              "      <td>0</td>\n",
              "    </tr>\n",
              "    <tr>\n",
              "      <th>9574</th>\n",
              "      <td>4380.000000</td>\n",
              "      <td>184</td>\n",
              "      <td>5</td>\n",
              "      <td>0</td>\n",
              "      <td>0</td>\n",
              "      <td>1</td>\n",
              "      <td>0</td>\n",
              "      <td>0</td>\n",
              "      <td>0</td>\n",
              "      <td>0</td>\n",
              "      <td>0</td>\n",
              "      <td>0</td>\n",
              "    </tr>\n",
              "    <tr>\n",
              "      <th>9575</th>\n",
              "      <td>3450.041667</td>\n",
              "      <td>10036</td>\n",
              "      <td>8</td>\n",
              "      <td>0</td>\n",
              "      <td>0</td>\n",
              "      <td>1</td>\n",
              "      <td>0</td>\n",
              "      <td>1</td>\n",
              "      <td>0</td>\n",
              "      <td>0</td>\n",
              "      <td>0</td>\n",
              "      <td>0</td>\n",
              "    </tr>\n",
              "    <tr>\n",
              "      <th>9576</th>\n",
              "      <td>1800.000000</td>\n",
              "      <td>0</td>\n",
              "      <td>5</td>\n",
              "      <td>0</td>\n",
              "      <td>0</td>\n",
              "      <td>1</td>\n",
              "      <td>0</td>\n",
              "      <td>0</td>\n",
              "      <td>0</td>\n",
              "      <td>1</td>\n",
              "      <td>0</td>\n",
              "      <td>0</td>\n",
              "    </tr>\n",
              "    <tr>\n",
              "      <th>9577</th>\n",
              "      <td>4740.000000</td>\n",
              "      <td>37879</td>\n",
              "      <td>6</td>\n",
              "      <td>0</td>\n",
              "      <td>0</td>\n",
              "      <td>1</td>\n",
              "      <td>0</td>\n",
              "      <td>1</td>\n",
              "      <td>0</td>\n",
              "      <td>0</td>\n",
              "      <td>0</td>\n",
              "      <td>0</td>\n",
              "    </tr>\n",
              "  </tbody>\n",
              "</table>\n",
              "<p>9578 rows × 12 columns</p>\n",
              "</div>"
            ],
            "text/plain": [
              "      days.with.cr.line  revol.bal  ...  major_purchase  small_business\n",
              "0           5639.958333      28854  ...               0               0\n",
              "1           2760.000000      33623  ...               0               0\n",
              "2           4710.000000       3511  ...               0               0\n",
              "3           2699.958333      33667  ...               0               0\n",
              "4           4066.000000       4740  ...               0               0\n",
              "...                 ...        ...  ...             ...             ...\n",
              "9573       10474.000000     215372  ...               0               0\n",
              "9574        4380.000000        184  ...               0               0\n",
              "9575        3450.041667      10036  ...               0               0\n",
              "9576        1800.000000          0  ...               0               0\n",
              "9577        4740.000000      37879  ...               0               0\n",
              "\n",
              "[9578 rows x 12 columns]"
            ]
          },
          "metadata": {
            "tags": []
          },
          "execution_count": 21
        }
      ]
    },
    {
      "cell_type": "code",
      "metadata": {
        "id": "BYT3_urvyDYd"
      },
      "source": [
        "from sklearn.model_selection import train_test_split\n",
        "\n",
        "X_train, X_test, y_train, y_test = train_test_split(X, y, test_size=0.33, random_state=1)"
      ],
      "execution_count": null,
      "outputs": []
    },
    {
      "cell_type": "code",
      "metadata": {
        "id": "sNmimtDmynnb",
        "colab": {
          "base_uri": "https://localhost:8080/"
        },
        "outputId": "dff8ec3d-16ac-44ee-c9f0-41fa0f806fa0"
      },
      "source": [
        "print('Train', X_train.shape, y_train.shape)"
      ],
      "execution_count": null,
      "outputs": [
        {
          "output_type": "stream",
          "text": [
            "Train (6417, 12) (6417,)\n"
          ],
          "name": "stdout"
        }
      ]
    },
    {
      "cell_type": "code",
      "metadata": {
        "id": "_57P0tZEzNS4",
        "colab": {
          "base_uri": "https://localhost:8080/",
          "height": 211
        },
        "outputId": "4087f1a6-f367-4baa-a0cb-84db1eafd3af"
      },
      "source": [
        "X_train.head()"
      ],
      "execution_count": null,
      "outputs": [
        {
          "output_type": "execute_result",
          "data": {
            "text/html": [
              "<div>\n",
              "<style scoped>\n",
              "    .dataframe tbody tr th:only-of-type {\n",
              "        vertical-align: middle;\n",
              "    }\n",
              "\n",
              "    .dataframe tbody tr th {\n",
              "        vertical-align: top;\n",
              "    }\n",
              "\n",
              "    .dataframe thead th {\n",
              "        text-align: right;\n",
              "    }\n",
              "</style>\n",
              "<table border=\"1\" class=\"dataframe\">\n",
              "  <thead>\n",
              "    <tr style=\"text-align: right;\">\n",
              "      <th></th>\n",
              "      <th>days.with.cr.line</th>\n",
              "      <th>revol.bal</th>\n",
              "      <th>inq.last.6mths</th>\n",
              "      <th>delinq.2yrs</th>\n",
              "      <th>pub.rec</th>\n",
              "      <th>not.fully.paid</th>\n",
              "      <th>credit_card</th>\n",
              "      <th>debt_consolidation</th>\n",
              "      <th>educational</th>\n",
              "      <th>home_improvement</th>\n",
              "      <th>major_purchase</th>\n",
              "      <th>small_business</th>\n",
              "    </tr>\n",
              "  </thead>\n",
              "  <tbody>\n",
              "    <tr>\n",
              "      <th>4939</th>\n",
              "      <td>3990.000000</td>\n",
              "      <td>23075</td>\n",
              "      <td>0</td>\n",
              "      <td>0</td>\n",
              "      <td>0</td>\n",
              "      <td>1</td>\n",
              "      <td>0</td>\n",
              "      <td>1</td>\n",
              "      <td>0</td>\n",
              "      <td>0</td>\n",
              "      <td>0</td>\n",
              "      <td>0</td>\n",
              "    </tr>\n",
              "    <tr>\n",
              "      <th>1155</th>\n",
              "      <td>2610.000000</td>\n",
              "      <td>1487</td>\n",
              "      <td>0</td>\n",
              "      <td>0</td>\n",
              "      <td>0</td>\n",
              "      <td>1</td>\n",
              "      <td>0</td>\n",
              "      <td>0</td>\n",
              "      <td>0</td>\n",
              "      <td>0</td>\n",
              "      <td>1</td>\n",
              "      <td>0</td>\n",
              "    </tr>\n",
              "    <tr>\n",
              "      <th>1794</th>\n",
              "      <td>4620.041667</td>\n",
              "      <td>3469</td>\n",
              "      <td>1</td>\n",
              "      <td>0</td>\n",
              "      <td>1</td>\n",
              "      <td>1</td>\n",
              "      <td>0</td>\n",
              "      <td>1</td>\n",
              "      <td>0</td>\n",
              "      <td>0</td>\n",
              "      <td>0</td>\n",
              "      <td>0</td>\n",
              "    </tr>\n",
              "    <tr>\n",
              "      <th>6332</th>\n",
              "      <td>1710.041667</td>\n",
              "      <td>7786</td>\n",
              "      <td>0</td>\n",
              "      <td>0</td>\n",
              "      <td>0</td>\n",
              "      <td>0</td>\n",
              "      <td>0</td>\n",
              "      <td>0</td>\n",
              "      <td>0</td>\n",
              "      <td>0</td>\n",
              "      <td>0</td>\n",
              "      <td>1</td>\n",
              "    </tr>\n",
              "    <tr>\n",
              "      <th>2742</th>\n",
              "      <td>2189.958333</td>\n",
              "      <td>6191</td>\n",
              "      <td>1</td>\n",
              "      <td>0</td>\n",
              "      <td>0</td>\n",
              "      <td>0</td>\n",
              "      <td>0</td>\n",
              "      <td>0</td>\n",
              "      <td>0</td>\n",
              "      <td>0</td>\n",
              "      <td>0</td>\n",
              "      <td>0</td>\n",
              "    </tr>\n",
              "  </tbody>\n",
              "</table>\n",
              "</div>"
            ],
            "text/plain": [
              "      days.with.cr.line  revol.bal  ...  major_purchase  small_business\n",
              "4939        3990.000000      23075  ...               0               0\n",
              "1155        2610.000000       1487  ...               1               0\n",
              "1794        4620.041667       3469  ...               0               0\n",
              "6332        1710.041667       7786  ...               0               1\n",
              "2742        2189.958333       6191  ...               0               0\n",
              "\n",
              "[5 rows x 12 columns]"
            ]
          },
          "metadata": {
            "tags": []
          },
          "execution_count": 24
        }
      ]
    },
    {
      "cell_type": "code",
      "metadata": {
        "id": "HZ4VdpatzQbf"
      },
      "source": [
        "from sklearn import preprocessing\n",
        "norm = preprocessing.MinMaxScaler()\n",
        "X_train_nm = norm.fit_transform(X_train)\n",
        "X_test_nm = norm.transform(X_test)"
      ],
      "execution_count": null,
      "outputs": []
    },
    {
      "cell_type": "code",
      "metadata": {
        "id": "agaziy5uzT-V",
        "colab": {
          "base_uri": "https://localhost:8080/"
        },
        "outputId": "18fe3d62-97cf-44f8-e637-ee77de090a30"
      },
      "source": [
        "print('Test', X_test_nm.shape, y_test.shape)"
      ],
      "execution_count": null,
      "outputs": [
        {
          "output_type": "stream",
          "text": [
            "Test (3161, 12) (3161,)\n"
          ],
          "name": "stdout"
        }
      ]
    },
    {
      "cell_type": "code",
      "metadata": {
        "id": "S8nzevL2zWmp",
        "colab": {
          "base_uri": "https://localhost:8080/"
        },
        "outputId": "ae2e7904-7025-4026-c98e-05e9c518df3a"
      },
      "source": [
        "X_train_nm"
      ],
      "execution_count": null,
      "outputs": [
        {
          "output_type": "execute_result",
          "data": {
            "text/plain": [
              "array([[0.21851155, 0.01911196, 0.        , ..., 0.        , 0.        ,\n",
              "        0.        ],\n",
              "       [0.13936477, 0.00123161, 0.        , ..., 0.        , 1.        ,\n",
              "        0.        ],\n",
              "       [0.25464617, 0.00287321, 0.03030303, ..., 0.        , 0.        ,\n",
              "        0.        ],\n",
              "       ...,\n",
              "       [0.49810377, 0.01332081, 0.        , ..., 0.        , 0.        ,\n",
              "        0.        ],\n",
              "       [0.23055563, 0.01108287, 0.03030303, ..., 0.        , 0.        ,\n",
              "        1.        ],\n",
              "       [0.09967906, 0.005898  , 0.        , ..., 0.        , 0.        ,\n",
              "        0.        ]])"
            ]
          },
          "metadata": {
            "tags": []
          },
          "execution_count": 27
        }
      ]
    },
    {
      "cell_type": "markdown",
      "metadata": {
        "id": "h7OzPJOVzc9U"
      },
      "source": [
        "# Model Fitting"
      ]
    },
    {
      "cell_type": "code",
      "metadata": {
        "id": "p1kt5w-qzZZL"
      },
      "source": [
        "model = tf.keras.models.Sequential()\n",
        "model.add(tf.keras.layers.Reshape((12,),input_shape=(12,)))\n",
        "model.add(tf.keras.layers.BatchNormalization())"
      ],
      "execution_count": null,
      "outputs": []
    },
    {
      "cell_type": "code",
      "metadata": {
        "id": "9mUmdivIznwh"
      },
      "source": [
        "#Add 1st hidden layer\n",
        "model.add(tf.keras.layers.Dense(15, activation='relu'))\n",
        "model.add(tf.keras.layers.BatchNormalization())"
      ],
      "execution_count": null,
      "outputs": []
    },
    {
      "cell_type": "code",
      "metadata": {
        "id": "3Xp-gVVFzwTc"
      },
      "source": [
        "#Add 2nd hidden layer\n",
        "model.add(tf.keras.layers.Dense(10, activation='relu'))\n",
        "model.add(tf.keras.layers.BatchNormalization())"
      ],
      "execution_count": null,
      "outputs": []
    },
    {
      "cell_type": "code",
      "metadata": {
        "id": "VTKiV-33z0OI"
      },
      "source": [
        "#Add OUTPUT layer\n",
        "model.add(tf.keras.layers.Dense(1, activation='sigmoid'))"
      ],
      "execution_count": null,
      "outputs": []
    },
    {
      "cell_type": "code",
      "metadata": {
        "id": "y6MQWATQz3hI"
      },
      "source": [
        " #Create optimizer with non-default learning rate\n",
        "sgd_optimizer = tf.keras.optimizers.SGD(lr=0.01)\n",
        "\n",
        "#Compile the model\n",
        "model.compile(optimizer=sgd_optimizer, loss='binary_crossentropy', metrics=['Recall','accuracy'])"
      ],
      "execution_count": null,
      "outputs": []
    },
    {
      "cell_type": "code",
      "metadata": {
        "id": "gTjamjmPz9wP",
        "colab": {
          "base_uri": "https://localhost:8080/"
        },
        "outputId": "fc4f6a05-37ed-46be-efd1-b3f9459d09ae"
      },
      "source": [
        "#Train Model\n",
        "model.fit(X_train,y_train,\n",
        " validation_data=(X_test,y_test),\n",
        " epochs=10,\n",
        " batch_size=10)\n"
      ],
      "execution_count": null,
      "outputs": [
        {
          "output_type": "stream",
          "text": [
            "Epoch 1/10\n",
            "642/642 [==============================] - 4s 4ms/step - loss: 0.5768 - recall: 0.7754 - accuracy: 0.7225 - val_loss: 0.3661 - val_recall: 0.9344 - val_accuracy: 0.8345\n",
            "Epoch 2/10\n",
            "642/642 [==============================] - 2s 2ms/step - loss: 0.4014 - recall: 0.9471 - accuracy: 0.8300 - val_loss: 0.3311 - val_recall: 0.9542 - val_accuracy: 0.8605\n",
            "Epoch 3/10\n",
            "642/642 [==============================] - 2s 2ms/step - loss: 0.3782 - recall: 0.9446 - accuracy: 0.8409 - val_loss: 0.3162 - val_recall: 0.9717 - val_accuracy: 0.8668\n",
            "Epoch 4/10\n",
            "642/642 [==============================] - 2s 2ms/step - loss: 0.3597 - recall: 0.9514 - accuracy: 0.8479 - val_loss: 0.3071 - val_recall: 0.9736 - val_accuracy: 0.8747\n",
            "Epoch 5/10\n",
            "642/642 [==============================] - 1s 2ms/step - loss: 0.3674 - recall: 0.9567 - accuracy: 0.8529 - val_loss: 0.2984 - val_recall: 0.9775 - val_accuracy: 0.8792\n",
            "Epoch 6/10\n",
            "642/642 [==============================] - 1s 2ms/step - loss: 0.3749 - recall: 0.9505 - accuracy: 0.8450 - val_loss: 0.3015 - val_recall: 0.9860 - val_accuracy: 0.8747\n",
            "Epoch 7/10\n",
            "642/642 [==============================] - 1s 2ms/step - loss: 0.3587 - recall: 0.9513 - accuracy: 0.8492 - val_loss: 0.3015 - val_recall: 0.9860 - val_accuracy: 0.8754\n",
            "Epoch 8/10\n",
            "642/642 [==============================] - 2s 2ms/step - loss: 0.3669 - recall: 0.9489 - accuracy: 0.8480 - val_loss: 0.2963 - val_recall: 0.9864 - val_accuracy: 0.8811\n",
            "Epoch 9/10\n",
            "642/642 [==============================] - 1s 2ms/step - loss: 0.3525 - recall: 0.9498 - accuracy: 0.8525 - val_loss: 0.2976 - val_recall: 0.9860 - val_accuracy: 0.8836\n",
            "Epoch 10/10\n",
            "642/642 [==============================] - 1s 2ms/step - loss: 0.3644 - recall: 0.9484 - accuracy: 0.8432 - val_loss: 0.2958 - val_recall: 0.9841 - val_accuracy: 0.8795\n"
          ],
          "name": "stdout"
        },
        {
          "output_type": "execute_result",
          "data": {
            "text/plain": [
              "<tensorflow.python.keras.callbacks.History at 0x7fd5b5526990>"
            ]
          },
          "metadata": {
            "tags": []
          },
          "execution_count": 33
        }
      ]
    },
    {
      "cell_type": "markdown",
      "metadata": {
        "id": "TfopMq600bMr"
      },
      "source": [
        "Save Model"
      ]
    },
    {
      "cell_type": "code",
      "metadata": {
        "id": "Qrp4yXmw0BJN"
      },
      "source": [
        "model.save('loan_model.h5')"
      ],
      "execution_count": null,
      "outputs": []
    },
    {
      "cell_type": "code",
      "metadata": {
        "id": "26vANrRV0eOI",
        "colab": {
          "base_uri": "https://localhost:8080/"
        },
        "outputId": "b634cb56-c4ee-4054-e0bf-384a9a63e336"
      },
      "source": [
        "model.predict(X_test_nm)"
      ],
      "execution_count": null,
      "outputs": [
        {
          "output_type": "execute_result",
          "data": {
            "text/plain": [
              "array([[0.84572303],\n",
              "       [0.8552667 ],\n",
              "       [0.6077448 ],\n",
              "       ...,\n",
              "       [0.63745093],\n",
              "       [0.82279885],\n",
              "       [0.8492489 ]], dtype=float32)"
            ]
          },
          "metadata": {
            "tags": []
          },
          "execution_count": 35
        }
      ]
    },
    {
      "cell_type": "code",
      "metadata": {
        "id": "oFshXtGb0iWE",
        "colab": {
          "base_uri": "https://localhost:8080/",
          "height": 191
        },
        "outputId": "c3119202-041c-4fbc-dea0-81525e6f766f"
      },
      "source": [
        "df3 = pd.DataFrame()\n",
        "df3['Actual'] = y_test\n",
        "#df['credit.policy']\n",
        "df3['Proba'] = model.predict(X_test)\n",
        "df3['Pred'] = df3['Proba'].apply(lambda x: 1 if x>0.7 else 0)\n",
        "df3.head(5)"
      ],
      "execution_count": null,
      "outputs": [
        {
          "output_type": "execute_result",
          "data": {
            "text/html": [
              "<div>\n",
              "<style scoped>\n",
              "    .dataframe tbody tr th:only-of-type {\n",
              "        vertical-align: middle;\n",
              "    }\n",
              "\n",
              "    .dataframe tbody tr th {\n",
              "        vertical-align: top;\n",
              "    }\n",
              "\n",
              "    .dataframe thead th {\n",
              "        text-align: right;\n",
              "    }\n",
              "</style>\n",
              "<table border=\"1\" class=\"dataframe\">\n",
              "  <thead>\n",
              "    <tr style=\"text-align: right;\">\n",
              "      <th></th>\n",
              "      <th>Actual</th>\n",
              "      <th>Proba</th>\n",
              "      <th>Pred</th>\n",
              "    </tr>\n",
              "  </thead>\n",
              "  <tbody>\n",
              "    <tr>\n",
              "      <th>8261</th>\n",
              "      <td>0</td>\n",
              "      <td>0.705312</td>\n",
              "      <td>1</td>\n",
              "    </tr>\n",
              "    <tr>\n",
              "      <th>3431</th>\n",
              "      <td>1</td>\n",
              "      <td>0.877191</td>\n",
              "      <td>1</td>\n",
              "    </tr>\n",
              "    <tr>\n",
              "      <th>5482</th>\n",
              "      <td>1</td>\n",
              "      <td>0.218740</td>\n",
              "      <td>0</td>\n",
              "    </tr>\n",
              "    <tr>\n",
              "      <th>3272</th>\n",
              "      <td>1</td>\n",
              "      <td>0.749444</td>\n",
              "      <td>1</td>\n",
              "    </tr>\n",
              "    <tr>\n",
              "      <th>4687</th>\n",
              "      <td>1</td>\n",
              "      <td>0.965279</td>\n",
              "      <td>1</td>\n",
              "    </tr>\n",
              "  </tbody>\n",
              "</table>\n",
              "</div>"
            ],
            "text/plain": [
              "      Actual     Proba  Pred\n",
              "8261       0  0.705312     1\n",
              "3431       1  0.877191     1\n",
              "5482       1  0.218740     0\n",
              "3272       1  0.749444     1\n",
              "4687       1  0.965279     1"
            ]
          },
          "metadata": {
            "tags": []
          },
          "execution_count": 36
        }
      ]
    },
    {
      "cell_type": "code",
      "metadata": {
        "id": "U5-hiDrX0mX9",
        "colab": {
          "base_uri": "https://localhost:8080/",
          "height": 191
        },
        "outputId": "196d728e-e661-485e-d1e7-a11c22208089"
      },
      "source": [
        "df3.tail(5)"
      ],
      "execution_count": null,
      "outputs": [
        {
          "output_type": "execute_result",
          "data": {
            "text/html": [
              "<div>\n",
              "<style scoped>\n",
              "    .dataframe tbody tr th:only-of-type {\n",
              "        vertical-align: middle;\n",
              "    }\n",
              "\n",
              "    .dataframe tbody tr th {\n",
              "        vertical-align: top;\n",
              "    }\n",
              "\n",
              "    .dataframe thead th {\n",
              "        text-align: right;\n",
              "    }\n",
              "</style>\n",
              "<table border=\"1\" class=\"dataframe\">\n",
              "  <thead>\n",
              "    <tr style=\"text-align: right;\">\n",
              "      <th></th>\n",
              "      <th>Actual</th>\n",
              "      <th>Proba</th>\n",
              "      <th>Pred</th>\n",
              "    </tr>\n",
              "  </thead>\n",
              "  <tbody>\n",
              "    <tr>\n",
              "      <th>6159</th>\n",
              "      <td>1</td>\n",
              "      <td>0.951083</td>\n",
              "      <td>1</td>\n",
              "    </tr>\n",
              "    <tr>\n",
              "      <th>3908</th>\n",
              "      <td>1</td>\n",
              "      <td>0.933699</td>\n",
              "      <td>1</td>\n",
              "    </tr>\n",
              "    <tr>\n",
              "      <th>7879</th>\n",
              "      <td>0</td>\n",
              "      <td>0.065192</td>\n",
              "      <td>0</td>\n",
              "    </tr>\n",
              "    <tr>\n",
              "      <th>1089</th>\n",
              "      <td>1</td>\n",
              "      <td>0.953364</td>\n",
              "      <td>1</td>\n",
              "    </tr>\n",
              "    <tr>\n",
              "      <th>5267</th>\n",
              "      <td>1</td>\n",
              "      <td>0.962350</td>\n",
              "      <td>1</td>\n",
              "    </tr>\n",
              "  </tbody>\n",
              "</table>\n",
              "</div>"
            ],
            "text/plain": [
              "      Actual     Proba  Pred\n",
              "6159       1  0.951083     1\n",
              "3908       1  0.933699     1\n",
              "7879       0  0.065192     0\n",
              "1089       1  0.953364     1\n",
              "5267       1  0.962350     1"
            ]
          },
          "metadata": {
            "tags": []
          },
          "execution_count": 37
        }
      ]
    },
    {
      "cell_type": "code",
      "metadata": {
        "id": "ltMzUMpC0vvr"
      },
      "source": [
        "from sklearn.metrics import accuracy_score,recall_score,precision_score,f1_score\n",
        "from sklearn.metrics import confusion_matrix, classification_report\n",
        "y_pred = df3['Pred']"
      ],
      "execution_count": null,
      "outputs": []
    },
    {
      "cell_type": "code",
      "metadata": {
        "id": "-SAuLmkD001g",
        "colab": {
          "base_uri": "https://localhost:8080/"
        },
        "outputId": "1df641d0-a9c7-4241-d0db-f1d2037eface"
      },
      "source": [
        "accuracy_score(y_test, y_pred)"
      ],
      "execution_count": null,
      "outputs": [
        {
          "output_type": "execute_result",
          "data": {
            "text/plain": [
              "0.8794685226194242"
            ]
          },
          "metadata": {
            "tags": []
          },
          "execution_count": 39
        }
      ]
    },
    {
      "cell_type": "code",
      "metadata": {
        "id": "qZ2CK4Od03qW",
        "colab": {
          "base_uri": "https://localhost:8080/"
        },
        "outputId": "f733a198-13e9-4c2d-937d-abec09bcd66d"
      },
      "source": [
        "recall_score(y_test, y_pred, average=None)"
      ],
      "execution_count": null,
      "outputs": [
        {
          "output_type": "execute_result",
          "data": {
            "text/plain": [
              "array([0.6010274 , 0.94256888])"
            ]
          },
          "metadata": {
            "tags": []
          },
          "execution_count": 40
        }
      ]
    },
    {
      "cell_type": "code",
      "metadata": {
        "id": "Knx-tM4W091M",
        "colab": {
          "base_uri": "https://localhost:8080/"
        },
        "outputId": "e8da349f-d255-4935-d30b-57c97d6d2286"
      },
      "source": [
        "precision_score(y_test, y_pred, average=None)"
      ],
      "execution_count": null,
      "outputs": [
        {
          "output_type": "execute_result",
          "data": {
            "text/plain": [
              "array([0.70340681, 0.91247183])"
            ]
          },
          "metadata": {
            "tags": []
          },
          "execution_count": 41
        }
      ]
    },
    {
      "cell_type": "code",
      "metadata": {
        "id": "5OfLcRx21DbV",
        "colab": {
          "base_uri": "https://localhost:8080/"
        },
        "outputId": "e92000c1-fa10-431c-a3a0-98a0caf77b85"
      },
      "source": [
        "f1_score(y_test, y_pred)"
      ],
      "execution_count": null,
      "outputs": [
        {
          "output_type": "execute_result",
          "data": {
            "text/plain": [
              "0.9272761977476618"
            ]
          },
          "metadata": {
            "tags": []
          },
          "execution_count": 42
        }
      ]
    },
    {
      "cell_type": "code",
      "metadata": {
        "id": "nOfQlpiR1G93",
        "colab": {
          "base_uri": "https://localhost:8080/"
        },
        "outputId": "c2e83940-4bac-478f-9ee3-5bc1cface80a"
      },
      "source": [
        " cf_matrix = confusion_matrix(y_test, y_pred)\n",
        "print(cf_matrix)"
      ],
      "execution_count": null,
      "outputs": [
        {
          "output_type": "stream",
          "text": [
            "[[ 351  233]\n",
            " [ 148 2429]]\n"
          ],
          "name": "stdout"
        }
      ]
    },
    {
      "cell_type": "code",
      "metadata": {
        "id": "Of7iXLxf1JxR",
        "colab": {
          "base_uri": "https://localhost:8080/",
          "height": 281
        },
        "outputId": "5b830d69-84f6-4aaf-f98b-56a776ca9960"
      },
      "source": [
        " sns.heatmap(cf_matrix/np.sum(cf_matrix), annot=True,\n",
        " fmt='.2%', cmap='Blues')"
      ],
      "execution_count": null,
      "outputs": [
        {
          "output_type": "execute_result",
          "data": {
            "text/plain": [
              "<matplotlib.axes._subplots.AxesSubplot at 0x7fd5b1a30350>"
            ]
          },
          "metadata": {
            "tags": []
          },
          "execution_count": 44
        },
        {
          "output_type": "display_data",
          "data": {
            "image/png": "[encoded data removed]",
            "text/plain": [
              "<Figure size 432x288 with 2 Axes>"
            ]
          },
          "metadata": {
            "tags": [],
            "needs_background": "light"
          }
        }
      ]
    },
    {
      "cell_type": "code",
      "metadata": {
        "id": "WXeSP-H51Mlw",
        "colab": {
          "base_uri": "https://localhost:8080/"
        },
        "outputId": "3e4f753d-4221-40af-c25b-1bff1424d4de"
      },
      "source": [
        "print(classification_report(y_test, y_pred))"
      ],
      "execution_count": null,
      "outputs": [
        {
          "output_type": "stream",
          "text": [
            "              precision    recall  f1-score   support\n",
            "\n",
            "           0       0.70      0.60      0.65       584\n",
            "           1       0.91      0.94      0.93      2577\n",
            "\n",
            "    accuracy                           0.88      3161\n",
            "   macro avg       0.81      0.77      0.79      3161\n",
            "weighted avg       0.87      0.88      0.88      3161\n",
            "\n"
          ],
          "name": "stdout"
        }
      ]
    },
    {
      "cell_type": "code",
      "metadata": {
        "id": "XtcscJg81QEh",
        "colab": {
          "base_uri": "https://localhost:8080/"
        },
        "outputId": "19e14f9d-ef0a-4372-e919-8aff6936e1b5"
      },
      "source": [
        "!pip install imblearn\n",
        "from imblearn.over_sampling import SMOTE"
      ],
      "execution_count": null,
      "outputs": [
        {
          "output_type": "stream",
          "text": [
            "Requirement already satisfied: imblearn in /usr/local/lib/python3.7/dist-packages (0.0)\n",
            "Requirement already satisfied: imbalanced-learn in /usr/local/lib/python3.7/dist-packages (from imblearn) (0.4.3)\n",
            "Requirement already satisfied: scikit-learn>=0.20 in /usr/local/lib/python3.7/dist-packages (from imbalanced-learn->imblearn) (0.22.2.post1)\n",
            "Requirement already satisfied: scipy>=0.13.3 in /usr/local/lib/python3.7/dist-packages (from imbalanced-learn->imblearn) (1.4.1)\n",
            "Requirement already satisfied: numpy>=1.8.2 in /usr/local/lib/python3.7/dist-packages (from imbalanced-learn->imblearn) (1.19.5)\n",
            "Requirement already satisfied: joblib>=0.11 in /usr/local/lib/python3.7/dist-packages (from scikit-learn>=0.20->imbalanced-learn->imblearn) (1.0.1)\n"
          ],
          "name": "stdout"
        }
      ]
    },
    {
      "cell_type": "code",
      "metadata": {
        "id": "HlRrSoyu1WXQ",
        "colab": {
          "base_uri": "https://localhost:8080/"
        },
        "outputId": "c8266a07-7feb-4279-cd07-987f94a64fe1"
      },
      "source": [
        "y_train.value_counts()"
      ],
      "execution_count": null,
      "outputs": [
        {
          "output_type": "execute_result",
          "data": {
            "text/plain": [
              "1    5133\n",
              "0    1284\n",
              "Name: credit.policy, dtype: int64"
            ]
          },
          "metadata": {
            "tags": []
          },
          "execution_count": 47
        }
      ]
    },
    {
      "cell_type": "code",
      "metadata": {
        "id": "IVehzkrN1aTe"
      },
      "source": [
        "smt = SMOTE(random_state=42)\n",
        "X_smote, y_smote = smt.fit_sample(X_train, y_train)"
      ],
      "execution_count": null,
      "outputs": []
    },
    {
      "cell_type": "code",
      "metadata": {
        "id": "_0d4HmGs1dy7",
        "colab": {
          "base_uri": "https://localhost:8080/"
        },
        "outputId": "98cb67ae-e78f-4c6c-a829-810346b4a66b"
      },
      "source": [
        "np.bincount(y_smote)"
      ],
      "execution_count": null,
      "outputs": [
        {
          "output_type": "execute_result",
          "data": {
            "text/plain": [
              "array([5133, 5133])"
            ]
          },
          "metadata": {
            "tags": []
          },
          "execution_count": 49
        }
      ]
    },
    {
      "cell_type": "code",
      "metadata": {
        "id": "fWU58erR1gjv",
        "colab": {
          "base_uri": "https://localhost:8080/"
        },
        "outputId": "7284f16e-3761-4540-a465-091ffd0948a6"
      },
      "source": [
        "model.fit(X_smote, y_smote)"
      ],
      "execution_count": null,
      "outputs": [
        {
          "output_type": "stream",
          "text": [
            "321/321 [==============================] - 1s 2ms/step - loss: 0.5613 - recall: 0.9657 - accuracy: 0.7244\n"
          ],
          "name": "stdout"
        },
        {
          "output_type": "execute_result",
          "data": {
            "text/plain": [
              "<tensorflow.python.keras.callbacks.History at 0x7fd5b0afef10>"
            ]
          },
          "metadata": {
            "tags": []
          },
          "execution_count": 50
        }
      ]
    },
    {
      "cell_type": "code",
      "metadata": {
        "id": "BiSIzcTH1qi3",
        "colab": {
          "base_uri": "https://localhost:8080/"
        },
        "outputId": "905bf2d8-e8b2-4a55-c784-c0f47eea3e07"
      },
      "source": [
        "model.fit(X_smote,y_smote,\n",
        " validation_data=(X_test,y_test),\n",
        " epochs=10,\n",
        " batch_size=50)"
      ],
      "execution_count": null,
      "outputs": [
        {
          "output_type": "stream",
          "text": [
            "Epoch 1/10\n",
            "206/206 [==============================] - 1s 3ms/step - loss: 0.4256 - recall: 0.9184 - accuracy: 0.8099 - val_loss: 0.3388 - val_recall: 0.9193 - val_accuracy: 0.8782\n",
            "Epoch 2/10\n",
            "206/206 [==============================] - 1s 3ms/step - loss: 0.4096 - recall: 0.8841 - accuracy: 0.8170 - val_loss: 0.3477 - val_recall: 0.9061 - val_accuracy: 0.8709\n",
            "Epoch 3/10\n",
            "206/206 [==============================] - 1s 3ms/step - loss: 0.3960 - recall: 0.8693 - accuracy: 0.8257 - val_loss: 0.3526 - val_recall: 0.8956 - val_accuracy: 0.8665\n",
            "Epoch 4/10\n",
            "206/206 [==============================] - 1s 3ms/step - loss: 0.3848 - recall: 0.8724 - accuracy: 0.8331 - val_loss: 0.3501 - val_recall: 0.8960 - val_accuracy: 0.8693\n",
            "Epoch 5/10\n",
            "206/206 [==============================] - 1s 3ms/step - loss: 0.3870 - recall: 0.8650 - accuracy: 0.8326 - val_loss: 0.3526 - val_recall: 0.8894 - val_accuracy: 0.8655\n",
            "Epoch 6/10\n",
            "206/206 [==============================] - 1s 3ms/step - loss: 0.3857 - recall: 0.8554 - accuracy: 0.8316 - val_loss: 0.3460 - val_recall: 0.8952 - val_accuracy: 0.8687\n",
            "Epoch 7/10\n",
            "206/206 [==============================] - 1s 3ms/step - loss: 0.3820 - recall: 0.8621 - accuracy: 0.8332 - val_loss: 0.3437 - val_recall: 0.8968 - val_accuracy: 0.8706\n",
            "Epoch 8/10\n",
            "206/206 [==============================] - 1s 3ms/step - loss: 0.3832 - recall: 0.8623 - accuracy: 0.8336 - val_loss: 0.3446 - val_recall: 0.8952 - val_accuracy: 0.8697\n",
            "Epoch 9/10\n",
            "206/206 [==============================] - 1s 3ms/step - loss: 0.3787 - recall: 0.8603 - accuracy: 0.8370 - val_loss: 0.3418 - val_recall: 0.8956 - val_accuracy: 0.8697\n",
            "Epoch 10/10\n",
            "206/206 [==============================] - 1s 3ms/step - loss: 0.3711 - recall: 0.8679 - accuracy: 0.8411 - val_loss: 0.3400 - val_recall: 0.8960 - val_accuracy: 0.8712\n"
          ],
          "name": "stdout"
        },
        {
          "output_type": "execute_result",
          "data": {
            "text/plain": [
              "<tensorflow.python.keras.callbacks.History at 0x7fd5aeb50e50>"
            ]
          },
          "metadata": {
            "tags": []
          },
          "execution_count": 51
        }
      ]
    },
    {
      "cell_type": "code",
      "metadata": {
        "id": "J7_WF8FC1yao",
        "colab": {
          "base_uri": "https://localhost:8080/",
          "height": 191
        },
        "outputId": "0d897cfc-855c-4f12-d546-38afc096c2f9"
      },
      "source": [
        "df3 = pd.DataFrame()\n",
        "df3['Actual'] = y_test\n",
        "#df['credit.policy']\n",
        "df3['Proba'] = model.predict(X_test)\n",
        "df3['Pred'] = df3['Proba'].apply(lambda x: 1 if x>0.7 else 0)\n",
        "y_pred = df3['Pred']\n",
        "df3.head(5)"
      ],
      "execution_count": null,
      "outputs": [
        {
          "output_type": "execute_result",
          "data": {
            "text/html": [
              "<div>\n",
              "<style scoped>\n",
              "    .dataframe tbody tr th:only-of-type {\n",
              "        vertical-align: middle;\n",
              "    }\n",
              "\n",
              "    .dataframe tbody tr th {\n",
              "        vertical-align: top;\n",
              "    }\n",
              "\n",
              "    .dataframe thead th {\n",
              "        text-align: right;\n",
              "    }\n",
              "</style>\n",
              "<table border=\"1\" class=\"dataframe\">\n",
              "  <thead>\n",
              "    <tr style=\"text-align: right;\">\n",
              "      <th></th>\n",
              "      <th>Actual</th>\n",
              "      <th>Proba</th>\n",
              "      <th>Pred</th>\n",
              "    </tr>\n",
              "  </thead>\n",
              "  <tbody>\n",
              "    <tr>\n",
              "      <th>8261</th>\n",
              "      <td>0</td>\n",
              "      <td>0.262877</td>\n",
              "      <td>0</td>\n",
              "    </tr>\n",
              "    <tr>\n",
              "      <th>3431</th>\n",
              "      <td>1</td>\n",
              "      <td>0.481127</td>\n",
              "      <td>0</td>\n",
              "    </tr>\n",
              "    <tr>\n",
              "      <th>5482</th>\n",
              "      <td>1</td>\n",
              "      <td>0.050154</td>\n",
              "      <td>0</td>\n",
              "    </tr>\n",
              "    <tr>\n",
              "      <th>3272</th>\n",
              "      <td>1</td>\n",
              "      <td>0.379442</td>\n",
              "      <td>0</td>\n",
              "    </tr>\n",
              "    <tr>\n",
              "      <th>4687</th>\n",
              "      <td>1</td>\n",
              "      <td>0.916972</td>\n",
              "      <td>1</td>\n",
              "    </tr>\n",
              "  </tbody>\n",
              "</table>\n",
              "</div>"
            ],
            "text/plain": [
              "      Actual     Proba  Pred\n",
              "8261       0  0.262877     0\n",
              "3431       1  0.481127     0\n",
              "5482       1  0.050154     0\n",
              "3272       1  0.379442     0\n",
              "4687       1  0.916972     1"
            ]
          },
          "metadata": {
            "tags": []
          },
          "execution_count": 52
        }
      ]
    },
    {
      "cell_type": "code",
      "metadata": {
        "id": "3JUWnCMj16l2",
        "colab": {
          "base_uri": "https://localhost:8080/"
        },
        "outputId": "4e015ae8-d9ba-4a25-a270-6d6799dbbde2"
      },
      "source": [
        "cf_matrix = confusion_matrix(y_test, y_pred)\n",
        "print(cf_matrix)"
      ],
      "execution_count": null,
      "outputs": [
        {
          "output_type": "stream",
          "text": [
            "[[ 504   80]\n",
            " [ 617 1960]]\n"
          ],
          "name": "stdout"
        }
      ]
    },
    {
      "cell_type": "code",
      "metadata": {
        "id": "MqHEr10D1-6K"
      },
      "source": [
        ""
      ],
      "execution_count": null,
      "outputs": []
    }
  ]
}